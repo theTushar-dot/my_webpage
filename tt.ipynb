{
 "cells": [
  {
   "cell_type": "code",
   "execution_count": 40,
   "metadata": {},
   "outputs": [
    {
     "name": "stdout",
     "output_type": "stream",
     "text": [
      "[tushar2023icdm] Warning: Field supp missing!\n",
      "[tushar2023icdm] Warning: Field video missing!\n",
      "[tushar2023icdm] Warning: Field poster missing!\n",
      "[tushar2023icdm] Warning: Field code missing!\n",
      "[tushar2023recsys] Warning: Field supp missing!\n",
      "[tushar2023recsys] Warning: Field video missing!\n",
      "[tushar2023recsys] Warning: Field poster missing!\n",
      "[tushar2023recsys] Warning: Field code missing!\n",
      "[jalan2024sigir] Warning: Field supp missing!\n",
      "[jalan2024sigir] Warning: Field video missing!\n",
      "[jalan2024sigir] Warning: Field poster missing!\n",
      "[jalan2024sigir] Warning: Field code missing!\n",
      "[jalan2024ecir] Warning: Field supp missing!\n",
      "[jalan2024ecir] Warning: Field video missing!\n",
      "[jalan2024ecir] Warning: Field poster missing!\n",
      "[jalan2024ecir] Warning: Field code missing!\n",
      "[jalan2024ecirs] Warning: Field supp missing!\n",
      "[jalan2024ecirs] Warning: Field video missing!\n",
      "[jalan2024ecirs] Warning: Field poster missing!\n",
      "[jalan2024ecirs] Warning: Field code missing!\n",
      "[Joshi2024mta] Warning: Field supp missing!\n",
      "[Joshi2024mta] Warning: Field video missing!\n",
      "[Joshi2024mta] Warning: Field poster missing!\n",
      "[Joshi2024mta] Warning: Field code missing!\n",
      "[Joshi2024ieee] Warning: Field supp missing!\n",
      "[Joshi2024ieee] Warning: Field video missing!\n",
      "[Joshi2024ieee] Warning: Field poster missing!\n",
      "[Joshi2024ieee] Warning: Field code missing!\n",
      "[tushar2024soli] Warning: Field supp missing!\n",
      "[tushar2024soli] Warning: Field video missing!\n",
      "[tushar2024soli] Warning: Field poster missing!\n",
      "[tushar2024soli] Warning: Field code missing!\n",
      "Written index content to index.html.\n"
     ]
    }
   ],
   "source": [
    "!python build.py\n",
    "\n"
   ]
  },
  {
   "cell_type": "code",
   "execution_count": 2,
   "metadata": {},
   "outputs": [
    {
     "name": "stdout",
     "output_type": "stream",
     "text": [
      "Collecting pybtex\n",
      "  Downloading pybtex-0.24.0-py2.py3-none-any.whl (561 kB)\n",
      "\u001b[2K     \u001b[90m━━━━━━━━━━━━━━━━━━━━━━━━━━━━━━━━━━━━━━━\u001b[0m \u001b[32m561.4/561.4 kB\u001b[0m \u001b[31m7.0 MB/s\u001b[0m eta \u001b[36m0:00:00\u001b[0m00:01\u001b[0m00:01\u001b[0m\n",
      "\u001b[?25hRequirement already satisfied: PyYAML>=3.01 in /Users/tusharprakash/miniconda3/lib/python3.9/site-packages (from pybtex) (6.0)\n",
      "Collecting latexcodec>=1.0.4\n",
      "  Downloading latexcodec-3.0.0-py3-none-any.whl (18 kB)\n",
      "Requirement already satisfied: six in /Users/tusharprakash/miniconda3/lib/python3.9/site-packages (from pybtex) (1.16.0)\n",
      "Installing collected packages: latexcodec, pybtex\n",
      "Successfully installed latexcodec-3.0.0 pybtex-0.24.0\n"
     ]
    }
   ],
   "source": [
    "!pip install pybtex"
   ]
  },
  {
   "cell_type": "code",
   "execution_count": null,
   "metadata": {},
   "outputs": [],
   "source": [
    "@InProceedings{Oechsle2019ICCV,\n",
    "  author         = {Michael Oechsle and Lars Mescheder and Michael Niemeyer and Thilo Strauss and Andreas Geiger},\n",
    "  title          = {Texture Fields: Learning Texture Representations in Function Space},\n",
    "  booktitle      = ICCV,\n",
    "  year           = {2019},\n",
    "  abstract       = {In recent years,},\n",
    "  blog    = {https://autonomousvision.github.io/texture-fields/},\n",
    "  cvlibs_month   = {10},\n",
    "  code = {https://github.com/autonomousvision/texture_fields},\n",
    "  cvlibs_tags    = {oral},\n",
    "  cvlibs_youtube = {y8XHkl3vtpI},\n",
    "  groups         = {cvlibs},\n",
    "  img            = {assets/img/publications/tfield.jpg},\n",
    "  pdf = {http://www.cvlibs.net/publications/Oechsle2019ICCV.pdf},\n",
    "  supp = {http://www.cvlibs.net/publications/Oechsle2019ICCV_supplementary.pdf},\n",
    "  video = {http://www.youtube.com/watch?v=y8XHkl3vtpI&vq=hd1080&autoplay=1},\n",
    "  poster = {http://www.cvlibs.net/publications/Oechsle2019ICCV_poster.pdf},\n",
    "  html = {https://avg.is.mpg.de/publications/oechsle2019iccv},\n",
    "  award = {Oral Presentation},\n",
    "}"
   ]
  }
 ],
 "metadata": {
  "kernelspec": {
   "display_name": "base",
   "language": "python",
   "name": "python3"
  },
  "language_info": {
   "codemirror_mode": {
    "name": "ipython",
    "version": 3
   },
   "file_extension": ".py",
   "mimetype": "text/x-python",
   "name": "python",
   "nbconvert_exporter": "python",
   "pygments_lexer": "ipython3",
   "version": "3.9.12"
  }
 },
 "nbformat": 4,
 "nbformat_minor": 2
}
